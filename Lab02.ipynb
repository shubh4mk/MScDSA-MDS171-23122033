{
 "cells": [
  {
   "cell_type": "markdown",
   "metadata": {},
   "source": []
  },
  {
   "cell_type": "markdown",
   "metadata": {},
   "source": [
    "# defining a function to collect and store the name\n",
    "# performing neccessary validations for the mistake that can be made by programmer\n"
   ]
  },
  {
   "cell_type": "code",
   "execution_count": 3,
   "metadata": {},
   "outputs": [],
   "source": [
    "list_names = []\n",
    "def Name_Quest():\n",
    "    \n",
    "    while True:\n",
    "        name = str(input())\n",
    "        if name == 'q':\n",
    "            print(\"The program quits\")\n",
    "            return list_names\n",
    "            break\n",
    "        elif name not in list_names:\n",
    "            list_names.append(name)\n",
    "            print(list_names)\n",
    "        else:\n",
    "            print(\"The name already exists\")"
   ]
  },
  {
   "cell_type": "code",
   "execution_count": 4,
   "metadata": {},
   "outputs": [
    {
     "name": "stdout",
     "output_type": "stream",
     "text": [
      "['shubham']\n",
      "The name already exists\n",
      "The program quits\n"
     ]
    },
    {
     "data": {
      "text/plain": [
       "['shubham']"
      ]
     },
     "execution_count": 4,
     "metadata": {},
     "output_type": "execute_result"
    }
   ],
   "source": [
    "Name_Quest()"
   ]
  },
  {
   "cell_type": "markdown",
   "metadata": {},
   "source": [
    "# mistakes that can be made by programmer\n",
    "# removing the extra spaces\n",
    "# creating an updated list of names "
   ]
  },
  {
   "cell_type": "code",
   "execution_count": 5,
   "metadata": {},
   "outputs": [],
   "source": [
    "updated_list = []\n",
    "def crr_mistakes():\n",
    "    for name in list_names:\n",
    "        if name != name.strip():\n",
    "            updated_list.append(name.strip())\n",
    "\n",
    "        else:\n",
    "            updated_list.append(name)\n",
    "\n",
    "    return updated_list"
   ]
  },
  {
   "cell_type": "code",
   "execution_count": null,
   "metadata": {},
   "outputs": [],
   "source": [
    "crr_mistakes()"
   ]
  },
  {
   "cell_type": "markdown",
   "metadata": {},
   "source": [
    "DATA ANALYSIS\n",
    "\n",
    "1. We have to sort the list in alphabetical order so that it will help us to search the names in the list easily."
   ]
  },
  {
   "cell_type": "code",
   "execution_count": 2,
   "metadata": {},
   "outputs": [],
   "source": [
    "# Data Analysis\n",
    "\n",
    "def DataAnalysis(list_names):\n",
    "      updated_list.sort()\n",
    "      return updated_list"
   ]
  },
  {
   "cell_type": "code",
   "execution_count": null,
   "metadata": {},
   "outputs": [],
   "source": [
    "DataAnalysis(list_names)"
   ]
  }
 ],
 "metadata": {
  "kernelspec": {
   "display_name": "base",
   "language": "python",
   "name": "python3"
  },
  "language_info": {
   "codemirror_mode": {
    "name": "ipython",
    "version": 3
   },
   "file_extension": ".py",
   "mimetype": "text/x-python",
   "name": "python",
   "nbconvert_exporter": "python",
   "pygments_lexer": "ipython3",
   "version": "3.11.4"
  },
  "orig_nbformat": 4
 },
 "nbformat": 4,
 "nbformat_minor": 2
}
