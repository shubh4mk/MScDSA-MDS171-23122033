{
 "cells": [
  {
   "cell_type": "markdown",
   "metadata": {},
   "source": []
  },
  {
   "cell_type": "markdown",
   "metadata": {},
   "source": [
    "<h3>Lab 02</h3>\n",
    "<h6>The Name Collector's Quest</h6>\n",
    "<hr>\n",
    "In a quaint little village named Harmonyville, there lived a curious individual named Alex. Alex was known for his passion for collecting names. His dream was to create an extensive list of unique names that would reflect the diversity and camaraderie of the village. Alex used to sit in the village junction; as the villagers passed, Alex eagerly approached them and asked for their names. With each encounter, they diligently recorded the names in his notepad.\n",
    "\n",
    "To keep things organized, You were one among the villagers and have decided to create a program to assist them in this endeavour. You asked Alex to begin by defining a list on his laptop instead of his notepad, and you started writing functions to add names.\n",
    "\n",
    "The function that you have defined should do\n",
    "\n",
    "Whenever a new name is encountered, record it.\n",
    "If an existing name comes, the program says the name exists.\n",
    "Alex makes a lot of mistakes; your program also has to do the necessary validations.\n",
    "The function quits when q is entered as a name and prints all the names in the list, and then he has to call the function.\n",
    "As a data analyst of the village, analyse the names in the list.\n",
    "Days turned into weeks and weeks into months. Alex's name collection grew beyond their wildest dreams. The villagers admired their dedication and the beautifully organized list they had created. Alex's program became a legend in Harmonyville, passed down from generation to generation.\n",
    "\n",
    "And so, in the heart of the village, Alex's legacy lived on - a story of names, community, and the power of coding to bring dreams to life.\n",
    "\n",
    "Note:\n",
    "File name ‘Lab 02.ipynb’\n",
    "Update README.md file with the question and link to the file.\n",
    "Note the mistakes Alex will make, find solutions for them, and implement them in the program.\n",
    "Explain the analysis that you are planning to do and the results.\n",
    "Concepts to be used: List, Pre Defined Functions, User Defined Functions"
   ]
  },
  {
   "cell_type": "code",
   "execution_count": 1,
   "metadata": {},
   "outputs": [
    {
     "name": "stdout",
     "output_type": "stream",
     "text": [
      "The name 'shubham' already exists.\n",
      "The name 'shubham' already exists.\n",
      "The name 'kumar' already exists.\n",
      "The name 'kumar' already exists.\n",
      "The name 'pandey' already exists.\n",
      "The name 'asdf' already exists.\n",
      "Collected names:\n",
      "shubham\n",
      "kumar\n",
      "pandey\n",
      "asdf\n",
      "asdfg\n",
      "assdf\n",
      "shubham: 1 times\n",
      "kumar: 1 times\n",
      "pandey: 1 times\n",
      "asdf: 1 times\n",
      "asdfg: 1 times\n",
      "assdf: 1 times\n"
     ]
    }
   ],
   "source": [
    "#created a function for collecting names form thr user\n",
    "def collect_names():\n",
    "    #Empty List\n",
    "    name_list = []\n",
    "\n",
    "    #an infinite loop until the input is q or Q\n",
    "    while True:\n",
    "        name = input(\"Enter a name (or 'q' to quit): \").strip().lower()\n",
    "        if name == 'q':\n",
    "            break\n",
    "        elif name in name_list:\n",
    "            print(f\"The name '{name}' already exists.\")\n",
    "        else:\n",
    "            name_list.append(name)\n",
    "    return name_list\n",
    "\n",
    "if __name__ == \"__main__\":\n",
    "    collected_names = collect_names()\n",
    "    print(\"Collected names:\")\n",
    "    for name in collected_names:\n",
    "        print(name)\n",
    "    \n",
    "    #empty dict declared\n",
    "    name_count_dict = {}\n",
    "    \n",
    "    for name in collected_names:\n",
    "        if name in name_count_dict:\n",
    "            name_count_dict[name] += 1\n",
    "        else:\n",
    "            name_count_dict[name] = 1\n",
    "    \n",
    "    # for printing names and their respective count\n",
    "    for name, count in name_count_dict.items():\n",
    "        print(f\"{name}: {count} times\")\n"
   ]
  }
 ],
 "metadata": {
  "kernelspec": {
   "display_name": "base",
   "language": "python",
   "name": "python3"
  },
  "language_info": {
   "codemirror_mode": {
    "name": "ipython",
    "version": 3
   },
   "file_extension": ".py",
   "mimetype": "text/x-python",
   "name": "python",
   "nbconvert_exporter": "python",
   "pygments_lexer": "ipython3",
   "version": "3.11.5"
  },
  "orig_nbformat": 4
 },
 "nbformat": 4,
 "nbformat_minor": 2
}
