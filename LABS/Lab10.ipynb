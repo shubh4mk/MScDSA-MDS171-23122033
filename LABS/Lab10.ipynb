{
 "cells": [
  {
   "cell_type": "markdown",
   "metadata": {},
   "source": [
    "<h3>Lab 10</h3>\n",
    "<h2>Student Marks Details</h2><hr>\n",
    "Create a Python Class for managing student details and marks.\n",
    "Define the class and implement the methods of the student class in a menu-driven program for different types of users"
   ]
  },
  {
   "cell_type": "code",
   "execution_count": 1,
   "metadata": {},
   "outputs": [],
   "source": [
    "class Student:\n",
    "    def __init__(self, student_id, name):\n",
    "        self.student_id = student_id\n",
    "        self.name = name\n",
    "        self.marks = {}\n",
    "\n",
    "    def add_mark(self, subject, score):\n",
    "        self.marks[subject] = score\n",
    "\n",
    "    def get_average_marks(self):\n",
    "        if not self.marks:\n",
    "            return 0\n",
    "        total_marks = sum(self.marks.values())\n",
    "        return total_marks / len(self.marks)\n",
    "\n",
    "    def display_details(self):\n",
    "        print(f\"Student ID: {self.student_id}\")\n",
    "        print(f\"Name: {self.name}\")\n",
    "        print(\"Marks:\")\n",
    "        for subject, score in self.marks.items():\n",
    "            print(f\"{subject}: {score}\")\n",
    "        print(f\"Average Score: {self.get_average_marks()}\")"
   ]
  },
  {
   "cell_type": "code",
   "execution_count": 2,
   "metadata": {},
   "outputs": [
    {
     "name": "stdout",
     "output_type": "stream",
     "text": [
      "\n",
      "Menu:\n",
      "1. Add a student\n",
      "2. Add marks for a student\n",
      "3. Display student details\n",
      "4. Exit\n",
      "Student added successfully!\n",
      "\n",
      "Menu:\n",
      "1. Add a student\n",
      "2. Add marks for a student\n",
      "3. Display student details\n",
      "4. Exit\n",
      "Mark added successfully!\n",
      "\n",
      "Menu:\n",
      "1. Add a student\n",
      "2. Add marks for a student\n",
      "3. Display student details\n",
      "4. Exit\n",
      "Student ID: 23122033\n",
      "Name: Shubham\n",
      "Marks:\n",
      "Maths: 50.0\n",
      "Average Score: 50.0\n",
      "\n",
      "Menu:\n",
      "1. Add a student\n",
      "2. Add marks for a student\n",
      "3. Display student details\n",
      "4. Exit\n"
     ]
    }
   ],
   "source": [
    "# Menu-driven program\n",
    "students = {}  # Store student objects\n",
    "\n",
    "while True:\n",
    "    print(\"\\nMenu:\")\n",
    "    print(\"1. Add a student\")\n",
    "    print(\"2. Add marks for a student\")\n",
    "    print(\"3. Display student details\")\n",
    "    print(\"4. Exit\")\n",
    "\n",
    "    choice = input(\"Enter your choice: \")\n",
    "\n",
    "    if choice == \"1\":\n",
    "        student_id = input(\"Enter student ID: \")\n",
    "        name = input(\"Enter student name: \")\n",
    "        student = Student(student_id, name)\n",
    "        students[student_id] = student\n",
    "        print(\"Student added successfully!\")\n",
    "\n",
    "    elif choice == \"2\":\n",
    "        student_id = input(\"Enter student ID: \")\n",
    "        if student_id in students:\n",
    "            subject = input(\"Enter subject: \")\n",
    "            score = float(input(\"Enter score: \"))\n",
    "            students[student_id].add_mark(subject, score)\n",
    "            print(\"Mark added successfully!\")\n",
    "        else:\n",
    "            print(\"Student not found.\")\n",
    "\n",
    "    elif choice == \"3\":\n",
    "        student_id = input(\"Enter student ID: \")\n",
    "        if student_id in students:\n",
    "            students[student_id].display_details()\n",
    "        else:\n",
    "            print(\"Student not found.\")\n",
    "\n",
    "    elif choice == \"4\":\n",
    "\n",
    "        print(\"Exiting the program.\")\n",
    "        break\n",
    "\n",
    "    else:\n",
    "        print(\"Invalid choice. Please select a valid option.\")"
   ]
  }
 ],
 "metadata": {
  "kernelspec": {
   "display_name": "Python 3",
   "language": "python",
   "name": "python3"
  },
  "language_info": {
   "codemirror_mode": {
    "name": "ipython",
    "version": 3
   },
   "file_extension": ".py",
   "mimetype": "text/x-python",
   "name": "python",
   "nbconvert_exporter": "python",
   "pygments_lexer": "ipython3",
   "version": "3.12.0"
  }
 },
 "nbformat": 4,
 "nbformat_minor": 2
}
