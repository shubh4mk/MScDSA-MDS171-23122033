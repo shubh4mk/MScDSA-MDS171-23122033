{
 "cells": [
  {
   "cell_type": "markdown",
   "metadata": {},
   "source": [
    "<h1>Lab 06</h1>\n",
    "<h4>Vowel Counter!</h4>\n",
    "\n",
    "Write a program for collecting a string from the user and counting the number of vowels.\n",
    "\n",
    "Print the total count of vowels\n",
    "Print each vowel and its count\n",
    "Calculate the percentage of vowels in the given string\n",
    "Make use of functions and format your output accordingly"
   ]
  },
  {
   "cell_type": "code",
   "execution_count": 3,
   "metadata": {},
   "outputs": [
    {
     "name": "stdout",
     "output_type": "stream",
     "text": [
      "The entered string by the user is:  kjbclabladv\n",
      "\n",
      "Vowels present in enetred string are:  2\n",
      "\n",
      "Vowels in the string: ['a', 'a']\n",
      "\n",
      "Percentage of vowels in string:  18.181818181818183 %\n"
     ]
    },
    {
     "ename": "TypeError",
     "evalue": "unsupported operand type(s) for +: 'function' and 'str'",
     "output_type": "error",
     "traceback": [
      "\u001b[1;31m---------------------------------------------------------------------------\u001b[0m",
      "\u001b[1;31mTypeError\u001b[0m                                 Traceback (most recent call last)",
      "\u001b[1;32mc:\\Users\\kshub\\Desktop\\MScDSA-MDS171-23122033\\Lab06.ipynb Cell 2\u001b[0m line \u001b[0;36m3\n\u001b[0;32m     <a href='vscode-notebook-cell:/c%3A/Users/kshub/Desktop/MScDSA-MDS171-23122033/Lab06.ipynb#W1sZmlsZQ%3D%3D?line=35'>36</a>\u001b[0m per \u001b[39m=\u001b[39m (\u001b[39mlen\u001b[39m(result)\u001b[39m/\u001b[39m\u001b[39mlen\u001b[39m(inputUserString) \u001b[39m*\u001b[39m \u001b[39m100\u001b[39m)\n\u001b[0;32m     <a href='vscode-notebook-cell:/c%3A/Users/kshub/Desktop/MScDSA-MDS171-23122033/Lab06.ipynb#W1sZmlsZQ%3D%3D?line=36'>37</a>\u001b[0m \u001b[39mprint\u001b[39m(\u001b[39m\"\u001b[39m\u001b[39m\\n\u001b[39;00m\u001b[39mPercentage of vowels in string: \u001b[39m\u001b[39m\"\u001b[39m, per, \u001b[39m\"\u001b[39m\u001b[39m%\u001b[39m\u001b[39m\"\u001b[39m)\n\u001b[1;32m---> <a href='vscode-notebook-cell:/c%3A/Users/kshub/Desktop/MScDSA-MDS171-23122033/Lab06.ipynb#W1sZmlsZQ%3D%3D?line=37'>38</a>\u001b[0m \u001b[39mprint\u001b[39m(\u001b[39m\"\u001b[39m\u001b[39mThe vowel\u001b[39m\u001b[39m\"\u001b[39m, vowelsCount \u001b[39m+\u001b[39;49m \u001b[39m\"\u001b[39;49m\u001b[39mvowel present in the string for \u001b[39;49m\u001b[39m\"\u001b[39;49m \u001b[39m+\u001b[39m \u001b[39mstr\u001b[39m(count) \u001b[39m+\u001b[39m \u001b[39m\"\u001b[39m\u001b[39m times.\u001b[39m\u001b[39m\"\u001b[39m)\n",
      "\u001b[1;31mTypeError\u001b[0m: unsupported operand type(s) for +: 'function' and 'str'"
     ]
    }
   ],
   "source": [
    "count = 0\n",
    "#defining a function that will return the vowels \n",
    "def vowelsCount(inputUserString):\n",
    "    #created a variable that will store all vowels alphabets in bothe lower and upper case\n",
    "    vowels = \"AEIOUaeiou\"\n",
    "\n",
    "    #an empty list will be created to store the vowels\n",
    "    vowels_found = []\n",
    "    \n",
    "    #started a for loop that will iterate over the user input string\n",
    "    for char in inputUserString:\n",
    "        \n",
    "        #a condition is set if the loop finds a vowel then it will apped the vowel into the list\n",
    "        if char in vowels:\n",
    "            vowels_found.append(char)\n",
    "        \n",
    "        for char in inputUserString:\n",
    "            if vowels_found == vowels:\n",
    "                count += 1\n",
    "\n",
    "    #finially we will return the vowels\n",
    "    return (vowels_found)\n",
    "\n",
    "#user input function defined\n",
    "inputUserString = input(\"Enter a string: \")\n",
    "\n",
    "# results will be stored in result\n",
    "result = vowelsCount(inputUserString)\n",
    "\n",
    "#printing the result\n",
    "print(\"The entered string by the user is: \", inputUserString)\n",
    "print(\"\\nVowels present in enetred string are: \", len(result) )\n",
    "print(\"\\nVowels in the string:\", result)\n",
    "\n",
    "#Getting the percantage of vowelsin the string\n",
    "per = (len(result)/len(inputUserString) * 100)\n",
    "print(\"\\nPercentage of vowels in string: \", per, \"%\")\n",
    "print(\"The vowel\", vowelsCount + \"vowel present in the string for \" + str(count) + \" times.\")"
   ]
  }
 ],
 "metadata": {
  "kernelspec": {
   "display_name": "Python 3",
   "language": "python",
   "name": "python3"
  },
  "language_info": {
   "codemirror_mode": {
    "name": "ipython",
    "version": 3
   },
   "file_extension": ".py",
   "mimetype": "text/x-python",
   "name": "python",
   "nbconvert_exporter": "python",
   "pygments_lexer": "ipython3",
   "version": "3.11.5"
  },
  "orig_nbformat": 4
 },
 "nbformat": 4,
 "nbformat_minor": 2
}
