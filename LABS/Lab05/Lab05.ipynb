{
 "cells": [
  {
   "cell_type": "markdown",
   "metadata": {},
   "source": [
    "<h1>>Lab 05</h1>\n",
    "Mix & Match Calculator\n",
    "\n",
    "Create Lists for [Item, Quantity, Price] with 10 random values of your choice.\n",
    "The item list can be of any category of your choice [Food Items, Grocery Items,...] or anything you choose that can be bought.\n",
    "\n",
    "Prepare a CSV file with combinations of these values with the help of random index & looping statements and other control structures we discussed in class.\n",
    "\n",
    "To get a random index or number to access items from the list, you can use the following:\n",
    "random is a library in Python that can be used to generate random numbers.\n",
    "\n",
    "import random # Importing the external library\n",
    "r1 = random.randint(0, 10) # Generating the random number from the range and store it in r1 variable\n",
    "\n",
    "More details of the Random library usage can be found here.\n",
    "\n",
    "Your CSV file should have a minimum of 100 rows created randomly with the data in the list and the random library.\n",
    "Each row in the CSV file will have (item, Quantity, and UnitPrice).\n",
    "\n",
    "After preparing the CSV with Python code, you need to compute\n",
    "The total cost for each row, display the result from the first 5 rows and the last 10 rows\n",
    "Calculate the total cost for each unique item in the dataset.\n",
    "Item Name | Total Quantity | Total\n",
    "Print the minimum & maximum price for each item sold"
   ]
  },
  {
   "cell_type": "markdown",
   "metadata": {},
   "source": [
    "Step-1 Importing random library and creating list with 10 items."
   ]
  },
  {
   "cell_type": "code",
   "execution_count": 7,
   "metadata": {},
   "outputs": [],
   "source": [
    "import random\n",
    "listitem = [\"Apple\",\"Orange\",\"Snacks\",\"Cold drinks\",\"Bread\",\"Vgetables\",\"Jam\",\"Bourbon\",\"Flour\",\"Rice\"]\n",
    "listquantity = [\"5\",\"2\",\"10\",\"4\",\"3\",\"7\",\"2\",\"20\",\"10\",\"15\"]\n",
    "listprice = [\"100\",\"120\",\"500\",\"90\",\"50\",\"210\",\"225\",\"10\",\"546\",\"990\"]\n",
    "\n",
    "file = open(\"ShbhamKumar_23122033.csv\",\"a+\")\n",
    "file.write(f\"Item Name,Quantity,Price\")\n",
    "for i in range(0,99):\n",
    "    r1 = random.randint(0,9)\n",
    "    file = open(\"ShbhamKumar_23122033.csv\",\"a+\")\n",
    "    file.write(f\"\\n{listitem[r1]},{listquantity[r1]},{listprice[r1]}\")\n",
    "file.close()\n"
   ]
  }
 ],
 "metadata": {
  "kernelspec": {
   "display_name": "Python 3",
   "language": "python",
   "name": "python3"
  },
  "language_info": {
   "codemirror_mode": {
    "name": "ipython",
    "version": 3
   },
   "file_extension": ".py",
   "mimetype": "text/x-python",
   "name": "python",
   "nbconvert_exporter": "python",
   "pygments_lexer": "ipython3",
   "version": "3.11.5"
  },
  "orig_nbformat": 4
 },
 "nbformat": 4,
 "nbformat_minor": 2
}
