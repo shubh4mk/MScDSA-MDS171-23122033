{
 "cells": [
  {
   "cell_type": "markdown",
   "metadata": {},
   "source": [
    "**CREATING DATA**\n",
    "\n",
    "**The data consists of 50 rows and 6 columns, namely, IndividualID, Chromosome, Position, Reference Base, Variation Base and Genotype**"
   ]
  },
  {
   "cell_type": "code",
   "execution_count": 1,
   "metadata": {},
   "outputs": [],
   "source": [
    "# generating random genomics data\n",
    "# assuming the length of the chromosome to be 2.5 million base pairs\n",
    "\n",
    "import random\n",
    "\n",
    "genomics_data = []\n",
    "dna_types = [\"A\",\"T\",\"C\",\"G\"]\n",
    "\n",
    "def generate_genomics_data():\n",
    "  for i in range(0, 50):\n",
    "    genomics_data.append({\"IndividualID\" : random.randint(1,50), \n",
    "                            \"Chromosome\" : random.randint(1,22), \n",
    "                            \"Position\" : random.randint(1,2500000), \n",
    "                            \"ReferenceBase\" : random.choice(dna_types), \n",
    "                            \"VariationBase\" : random.choice(dna_types)\n",
    "                          })\n",
    "\n",
    "  for i in range(0,50):\n",
    "    genomics_data[i][\"Genotype\"] = genomics_data[i][\"ReferenceBase\"] + genomics_data[i][\"VariationBase\"]\n",
    "\n",
    "  return genomics_data"
   ]
  },
  {
   "cell_type": "code",
   "execution_count": 2,
   "metadata": {},
   "outputs": [
    {
     "data": {
      "text/plain": [
       "[{'IndividualID': 46,\n",
       "  'Chromosome': 14,\n",
       "  'Position': 1455111,\n",
       "  'ReferenceBase': 'C',\n",
       "  'VariationBase': 'T',\n",
       "  'Genotype': 'CT'},\n",
       " {'IndividualID': 1,\n",
       "  'Chromosome': 18,\n",
       "  'Position': 1759091,\n",
       "  'ReferenceBase': 'A',\n",
       "  'VariationBase': 'T',\n",
       "  'Genotype': 'AT'}]"
      ]
     },
     "execution_count": 2,
     "metadata": {},
     "output_type": "execute_result"
    }
   ],
   "source": [
    "generate_genomics_data()[:2]"
   ]
  },
  {
   "cell_type": "markdown",
   "metadata": {},
   "source": [
    "**There can be various insights that can be performed on the above genomics dataset but here we are going to focus on few of them:**\n",
    "\n",
    "**1) Comparing Reference Base and Variation Base: this specifies the variation in gene as compared to the reference. We will calculate the percentage of people who have the alleles and the percentage of people who have different alleles based on the given randomly generated dataset**\n",
    "\n",
    "**2) Calculating Genetic Density**\n",
    "\n",
    "**These insights can be used to determine the genetic diversity among different individuals which can be further be used to detect diseases based on the these genes differences.**"
   ]
  },
  {
   "cell_type": "code",
   "execution_count": 3,
   "metadata": {},
   "outputs": [],
   "source": [
    "homo_allele = []\n",
    "hetero_allele = []\n",
    "\n",
    "def compare_ref_var(data):\n",
    "    for i in range(0, len(data)):\n",
    "        if data[i][\"ReferenceBase\"] != data[i][\"VariationBase\"]:\n",
    "            hetero_allele.append(data[i][\"Genotype\"])\n",
    "            #print(f'The genotype {genomics_data[i][\"Genotype\"]} is a Heterozygous alleles.')\n",
    "\n",
    "        else:\n",
    "            homo_allele.append(data[i][\"Genotype\"])\n",
    "            #print(f'The genotype {genomics_data[i][\"Genotype\"]} is a Homozygous allele.')\n",
    "\n",
    "    return hetero_allele, homo_allele"
   ]
  },
  {
   "cell_type": "code",
   "execution_count": 17,
   "metadata": {},
   "outputs": [],
   "source": [
    "# compare_ref_var: This fucntion will compare the values of reference base and variation base\n",
    "# It returns a list of homozygous alleles and heterozygous alleles\n",
    "\n",
    "homo_allele = []\n",
    "hetero_allele = []\n",
    "\n",
    "def compare_ref_var(data):\n",
    "    for i in range(0, len(data)):\n",
    "        if data[i][\"ReferenceBase\"] != data[i][\"VariationBase\"]:\n",
    "            hetero_allele.append(data[i][\"Genotype\"])\n",
    "            #print(f'The genotype {genomics_data[i][\"Genotype\"]} is a Heterozygous alleles.')\n",
    "\n",
    "        else:\n",
    "            homo_allele.append(data[i][\"Genotype\"])\n",
    "            #print(f'The genotype {genomics_data[i][\"Genotype\"]} is a Homozygous allele.')\n",
    "\n",
    "    return hetero_allele, homo_allele\n",
    "\n",
    "def calc_percentage(homo_list, hetero_list): \n",
    "    percentage_homo = (len(homo_list)/(len(homo_list) + len(hetero_list))) * 100\n",
    "    percentage_hetero = (len(hetero_list)/(len(homo_list) + len(hetero_list))) * 100\n",
    "\n",
    "    return percentage_homo, percentage_hetero\n",
    "\n",
    "chromosome_variant_counts = {}\n",
    "chromosome_lengths = {\n",
    "    1: 249250621,\n",
    "    2: 243199373,\n",
    "    3: 198022430,\n",
    "    5: 180857866,\n",
    "    7: 159345973\n",
    "}\n",
    "\n",
    "\n",
    "def genetic_density(data):\n",
    "\n",
    "# Calculate variant counts per chromosome\n",
    "    for entry in genomics_data:\n",
    "        chromosome = entry['Chromosome']\n",
    "        if chromosome not in chromosome_variant_counts:\n",
    "            chromosome_variant_counts[chromosome] = 0\n",
    "        chromosome_variant_counts[chromosome] += 1\n",
    "\n",
    "    for chromosome, variant_count in chromosome_variant_counts.items():\n",
    "        chromosome_length = chromosome_lengths.get(chromosome, 1)  # Default to 1 if length is unknown\n",
    "        genetic_density = variant_count / chromosome_length\n",
    "        print(f\"Chromosome {chromosome}: Genetic Density = {genetic_density:.6f} variants/base pair\")\n"
   ]
  },
  {
   "cell_type": "code",
   "execution_count": null,
   "metadata": {},
   "outputs": [],
   "source": [
    "compare_ref_var(genomics_data)"
   ]
  },
  {
   "cell_type": "code",
   "execution_count": 18,
   "metadata": {},
   "outputs": [
    {
     "name": "stdout",
     "output_type": "stream",
     "text": [
      "Chromosome 14: Genetic Density = 3.000000 variants/base pair\n",
      "Chromosome 18: Genetic Density = 3.000000 variants/base pair\n",
      "Chromosome 16: Genetic Density = 3.000000 variants/base pair\n",
      "Chromosome 5: Genetic Density = 0.000000 variants/base pair\n",
      "Chromosome 11: Genetic Density = 4.000000 variants/base pair\n",
      "Chromosome 15: Genetic Density = 5.000000 variants/base pair\n",
      "Chromosome 17: Genetic Density = 4.000000 variants/base pair\n",
      "Chromosome 12: Genetic Density = 3.000000 variants/base pair\n",
      "Chromosome 22: Genetic Density = 3.000000 variants/base pair\n",
      "Chromosome 8: Genetic Density = 3.000000 variants/base pair\n",
      "Chromosome 13: Genetic Density = 4.000000 variants/base pair\n",
      "Chromosome 4: Genetic Density = 3.000000 variants/base pair\n",
      "Chromosome 20: Genetic Density = 1.000000 variants/base pair\n",
      "Chromosome 1: Genetic Density = 0.000000 variants/base pair\n",
      "Chromosome 21: Genetic Density = 1.000000 variants/base pair\n",
      "Chromosome 10: Genetic Density = 1.000000 variants/base pair\n",
      "Chromosome 3: Genetic Density = 0.000000 variants/base pair\n",
      "Chromosome 6: Genetic Density = 2.000000 variants/base pair\n",
      "Chromosome 2: Genetic Density = 0.000000 variants/base pair\n"
     ]
    }
   ],
   "source": [
    "genetic_density(genomics_data)"
   ]
  },
  {
   "cell_type": "code",
   "execution_count": 12,
   "metadata": {},
   "outputs": [
    {
     "data": {
      "text/plain": [
       "{14: 3,\n",
       " 18: 3,\n",
       " 16: 3,\n",
       " 5: 1,\n",
       " 11: 4,\n",
       " 15: 5,\n",
       " 17: 4,\n",
       " 12: 3,\n",
       " 22: 3,\n",
       " 8: 3,\n",
       " 13: 4,\n",
       " 4: 3,\n",
       " 20: 1,\n",
       " 1: 4,\n",
       " 21: 1,\n",
       " 10: 1,\n",
       " 3: 1,\n",
       " 6: 2,\n",
       " 2: 1}"
      ]
     },
     "execution_count": 12,
     "metadata": {},
     "output_type": "execute_result"
    }
   ],
   "source": [
    "chromosome_variant_counts"
   ]
  },
  {
   "cell_type": "markdown",
   "metadata": {},
   "source": [
    "**We can also the percentage of each type of dna molecules present in a dna sequence**\n",
    "\n",
    "**Here, we will try to generate a random data which shows dna sequences of the above 50 individuals. Using this data, we can calculate the percentage of \"A\", \"G\", \"C\", \"T\" in a particular individual**"
   ]
  },
  {
   "cell_type": "code",
   "execution_count": 19,
   "metadata": {},
   "outputs": [],
   "source": [
    "# defining a function to generate random dna sequence\n",
    "\n",
    "def generate_dna_sequence(length):\n",
    "     neuclotides = [\"A\", \"G\", \"C\", \"T\"]\n",
    "     ran_seq = []\n",
    "\n",
    "     for i in range(length):\n",
    "          ran_seq.append(random.choice(neuclotides))\n",
    "\n",
    "     ran_seq = ''.join(ran_seq)\n",
    "     return ran_seq\n"
   ]
  },
  {
   "cell_type": "code",
   "execution_count": 20,
   "metadata": {},
   "outputs": [],
   "source": [
    "ran_seq = generate_dna_sequence(10)"
   ]
  },
  {
   "cell_type": "code",
   "execution_count": 21,
   "metadata": {},
   "outputs": [
    {
     "data": {
      "text/plain": [
       "'TGTAAAAGGA'"
      ]
     },
     "execution_count": 21,
     "metadata": {},
     "output_type": "execute_result"
    }
   ],
   "source": [
    "ran_seq"
   ]
  },
  {
   "cell_type": "code",
   "execution_count": 22,
   "metadata": {},
   "outputs": [],
   "source": [
    "# calculating the percentage of each of neuclotides present in a particular dna sequence\n",
    "# defining a function which calculates GC content\n",
    "\n",
    "def gc_content(random_sequence):\n",
    "\n",
    "    count_a = 0\n",
    "    count_c = 0\n",
    "    count_g = 0\n",
    "    count_t = 0\n",
    "\n",
    "\n",
    "    for i in random_sequence:\n",
    "        if i == \"A\":\n",
    "            count_a += 1\n",
    "        elif i == \"C\":\n",
    "            count_c += 1\n",
    "        elif i == \"G\":\n",
    "            count_g += 1\n",
    "        elif i == \"T\":\n",
    "            count_t += 1\n",
    "\n",
    "    percent_a = (count_a/len(random_sequence))*100\n",
    "    percent_c = (count_c/len(random_sequence))*100\n",
    "    percent_g = (count_g/len(random_sequence))*100\n",
    "    percent_t = (count_t/len(random_sequence))*100\n",
    "\n",
    "    print(f'Percentage of A: {percent_a}\\nPercentage of C: {percent_c}\\nPercentage of G: {percent_g}\\nPercentage of T: {percent_c}')"
   ]
  },
  {
   "cell_type": "code",
   "execution_count": 23,
   "metadata": {},
   "outputs": [
    {
     "name": "stdout",
     "output_type": "stream",
     "text": [
      "Percentage of A: 50.0\n",
      "Percentage of C: 0.0\n",
      "Percentage of G: 30.0\n",
      "Percentage of T: 0.0\n"
     ]
    }
   ],
   "source": [
    "gc_content(ran_seq)"
   ]
  },
  {
   "cell_type": "code",
   "execution_count": 29,
   "metadata": {},
   "outputs": [
    {
     "name": "stdout",
     "output_type": "stream",
     "text": [
      "WELCOME TO THE GENOMICS DATA ANALYSIS PROGRAM\n",
      "****************************************************************************************************\n",
      "Make a choice to proceed further\n",
      "1) Enter 1: To generate the random genomics data\n",
      "2) Enter 2: To perform analysis on the randomly generated data:\n",
      "\ta) Enter a: To compare the reference base and variation base in the data\n",
      "\tb) Enter b: To calculate the percentage of homozygous alleles and heterozygous alleles\n",
      "\tc) Enter c: To calculate the gentic density\n",
      "3) Enter 3: To genrate random dna sequences\n",
      "\ta) Enter a: To calculate the percentage of each of the neuclotides present in the sequence\n",
      "****************************************************************************************************\n",
      "The data contains details about 50 individuals. The details include: IndividualId, Chromosome, Position, Reference Base, Variation Base, Genotype.\n",
      "Here we only display the data of the first 5 individuals for the refenrece.\n",
      "[{'IndividualID': 46, 'Chromosome': 14, 'Position': 1455111, 'ReferenceBase': 'C', 'VariationBase': 'T', 'Genotype': 'CT'}, {'IndividualID': 1, 'Chromosome': 18, 'Position': 1759091, 'ReferenceBase': 'A', 'VariationBase': 'T', 'Genotype': 'AT'}, {'IndividualID': 37, 'Chromosome': 16, 'Position': 1917650, 'ReferenceBase': 'G', 'VariationBase': 'C', 'Genotype': 'GC'}, {'IndividualID': 26, 'Chromosome': 14, 'Position': 1510865, 'ReferenceBase': 'A', 'VariationBase': 'T', 'Genotype': 'AT'}, {'IndividualID': 13, 'Chromosome': 5, 'Position': 1773032, 'ReferenceBase': 'T', 'VariationBase': 'T', 'Genotype': 'TT'}]\n",
      "The data contains details about 50 individuals. The details include: IndividualId, Chromosome, Position, Reference Base, Variation Base, Genotype.\n",
      "Here we only display the data of the first 5 individuals for the refenrece.\n",
      "[{'IndividualID': 46, 'Chromosome': 14, 'Position': 1455111, 'ReferenceBase': 'C', 'VariationBase': 'T', 'Genotype': 'CT'}, {'IndividualID': 1, 'Chromosome': 18, 'Position': 1759091, 'ReferenceBase': 'A', 'VariationBase': 'T', 'Genotype': 'AT'}, {'IndividualID': 37, 'Chromosome': 16, 'Position': 1917650, 'ReferenceBase': 'G', 'VariationBase': 'C', 'Genotype': 'GC'}, {'IndividualID': 26, 'Chromosome': 14, 'Position': 1510865, 'ReferenceBase': 'A', 'VariationBase': 'T', 'Genotype': 'AT'}, {'IndividualID': 13, 'Chromosome': 5, 'Position': 1773032, 'ReferenceBase': 'T', 'VariationBase': 'T', 'Genotype': 'TT'}]\n"
     ]
    },
    {
     "ename": "ValueError",
     "evalue": "invalid literal for int() with base 10: ''",
     "output_type": "error",
     "traceback": [
      "\u001b[1;31m---------------------------------------------------------------------------\u001b[0m",
      "\u001b[1;31mValueError\u001b[0m                                Traceback (most recent call last)",
      "\u001b[1;32md:\\Python_cac_assignment\\sample.ipynb Cell 16\u001b[0m line \u001b[0;36m9\n\u001b[0;32m      <a href='vscode-notebook-cell:/d%3A/Python_cac_assignment/sample.ipynb#X16sZmlsZQ%3D%3D?line=6'>7</a>\u001b[0m \u001b[39mprint\u001b[39m(\u001b[39m\"\u001b[39m\u001b[39m*\u001b[39m\u001b[39m\"\u001b[39m\u001b[39m*\u001b[39m\u001b[39m100\u001b[39m)\n\u001b[0;32m      <a href='vscode-notebook-cell:/d%3A/Python_cac_assignment/sample.ipynb#X16sZmlsZQ%3D%3D?line=7'>8</a>\u001b[0m \u001b[39mwhile\u001b[39;00m \u001b[39mTrue\u001b[39;00m:\n\u001b[1;32m----> <a href='vscode-notebook-cell:/d%3A/Python_cac_assignment/sample.ipynb#X16sZmlsZQ%3D%3D?line=8'>9</a>\u001b[0m     choice \u001b[39m=\u001b[39m \u001b[39mint\u001b[39;49m(\u001b[39minput\u001b[39;49m(\u001b[39m\"\u001b[39;49m\u001b[39mEnter the specific choice to proceed further: \u001b[39;49m\u001b[39m\"\u001b[39;49m))\n\u001b[0;32m     <a href='vscode-notebook-cell:/d%3A/Python_cac_assignment/sample.ipynb#X16sZmlsZQ%3D%3D?line=9'>10</a>\u001b[0m     \u001b[39mif\u001b[39;00m choice \u001b[39m==\u001b[39m \u001b[39m1\u001b[39m:\n\u001b[0;32m     <a href='vscode-notebook-cell:/d%3A/Python_cac_assignment/sample.ipynb#X16sZmlsZQ%3D%3D?line=10'>11</a>\u001b[0m         \u001b[39mprint\u001b[39m(\u001b[39m\"\u001b[39m\u001b[39mThe data contains details about 50 individuals. The details include: IndividualId, Chromosome, Position, Reference Base, Variation Base, Genotype.\u001b[39m\u001b[39m\\n\u001b[39;00m\u001b[39mHere we only display the data of the first 5 individuals for the refenrece.\u001b[39m\u001b[39m\"\u001b[39m)\n",
      "\u001b[1;31mValueError\u001b[0m: invalid literal for int() with base 10: ''"
     ]
    }
   ],
   "source": [
    "# The main program starts from here \n",
    "\n",
    "print(\"WELCOME TO THE GENOMICS DATA ANALYSIS PROGRAM\")\n",
    "print(\"*\"*100)\n",
    "print(\"Make a choice to proceed further\")\n",
    "print(\"1) Enter 1: To generate the random genomics data\\n2) Enter 2: To perform analysis on the randomly generated data:\\n\\ta) Enter a: To compare the reference base and variation base in the data\\n\\tb) Enter b: To calculate the percentage of homozygous alleles and heterozygous alleles\\n\\tc) Enter c: To calculate the gentic density\\n3) Enter 3: To genrate random dna sequences\\n\\ta) Enter a: To calculate the percentage of each of the neuclotides present in the sequence\")\n",
    "print(\"*\"*100)\n",
    "while True:\n",
    "    choice = int(input(\"Enter the specific choice to proceed further: \"))\n",
    "    if choice == 1:\n",
    "        print(\"The data contains details about 50 individuals. The details include: IndividualId, Chromosome, Position, Reference Base, Variation Base, Genotype.\\nHere we only display the data of the first 5 individuals for the refenrece.\")\n",
    "        print(generate_genomics_data()[:5])\n",
    "\n",
    "    elif choice == 2:\n",
    "        compare_ref_var(genomics_data)\n",
    "        \n",
    "    elif choice == 3:\n",
    "        calc_percentage(homo_allele, hetero_allele)\n",
    "    \n",
    "    elif choice == 4:\n",
    "        genetic_density()\n",
    "    \n",
    "    elif choice == 4:\n",
    "        print(\"This is a randomly generated dna sequence data just for the analysis purpose\")\n",
    "        if choice == 1:\n",
    "            gc_content()\n",
    "\n",
    "    else:\n",
    "        break"
   ]
  },
  {
   "cell_type": "code",
   "execution_count": null,
   "metadata": {},
   "outputs": [],
   "source": []
  }
 ],
 "metadata": {
  "kernelspec": {
   "display_name": "Python 3",
   "language": "python",
   "name": "python3"
  },
  "language_info": {
   "codemirror_mode": {
    "name": "ipython",
    "version": 3
   },
   "file_extension": ".py",
   "mimetype": "text/x-python",
   "name": "python",
   "nbconvert_exporter": "python",
   "pygments_lexer": "ipython3",
   "version": "3.9.13"
  },
  "orig_nbformat": 4
 },
 "nbformat": 4,
 "nbformat_minor": 2
}
